{
 "cells": [
  {
   "cell_type": "markdown",
   "id": "aa457c25-c381-4f41-8cd0-d26fa7f545cd",
   "metadata": {},
   "source": [
    "## iucn.py 爬取数据"
   ]
  },
  {
   "cell_type": "code",
   "execution_count": null,
   "id": "987e9d3a-1616-4a50-98ab-a7b61873c775",
   "metadata": {},
   "outputs": [],
   "source": [
    "import json\n",
    "import requests"
   ]
  },
  {
   "cell_type": "markdown",
   "id": "5b7b1cbe-61db-402e-a05d-c84a52cf042e",
   "metadata": {},
   "source": [
    "json 存储文件\n",
    "requests 爬取数据"
   ]
  },
  {
   "cell_type": "code",
   "execution_count": null,
   "id": "55adea43-0f3d-4dd0-92f5-77283acbb747",
   "metadata": {},
   "outputs": [],
   "source": [
    "def getjson():\n",
    "    headers = {\n",
    "        'user-agent': 'Mozilla/5.0 (Windows NT 10.0; Win64; x64) AppleWebKit/537.36 (KHTML, like Gecko) Chrome/93.0.4541.0 Safari/537.36 Edg/93.0.932.0',\n",
    "        'content-type': 'application/json; charset=UTF-8'\n",
    "    }"
   ]
  },
  {
   "cell_type": "markdown",
   "id": "f71a4420-84ed-4f59-b3ec-233d54963ffa",
   "metadata": {},
   "source": [
    "payload部分自己看代码，这里user-agent给到大家"
   ]
  },
  {
   "cell_type": "code",
   "execution_count": null,
   "id": "a69093a3-7152-49f5-a5d1-a76096a27d70",
   "metadata": {},
   "outputs": [],
   "source": [
    "    # place1 = hits/total/value\n",
    "    # link2 = r'https://www.iucnredlist.org/dosearch/assessments/_search?size=%s&_source=false&from=0&track_total_hits=true' % ${...}\n",
    "    # place2 = hits/hits/0~xxx/fields/{commonName, scientificName}/0\n",
    "    # method = requests.post(link{1, 2}, data = {...}, headers = headers);\n",
    "    # Info count\n",
    "    ddcc = requests.post(link1, data=ddc, headers=headers).json()['hits']['total']['value']\n",
    "    lccc = requests.post(link1, data=lcc, headers=headers).json()['hits']['total']['value']\n",
    "    ntcc = requests.post(link1, data=ntc, headers=headers).json()['hits']['total']['value']\n",
    "    vucc = requests.post(link1, data=vuc, headers=headers).json()['hits']['total']['value']\n",
    "    encc = requests.post(link1, data=enc, headers=headers).json()['hits']['total']['value']\n",
    "    crcc = requests.post(link1, data=crc, headers=headers).json()['hits']['total']['value']\n",
    "    ewcc = requests.post(link1, data=ewc, headers=headers).json()['hits']['total']['value']\n",
    "    excc = requests.post(link1, data=exc, headers=headers).json()['hits']['total']['value']"
   ]
  },
  {
   "cell_type": "markdown",
   "id": "ab7ffab9-cd3e-43bf-a76a-9c72d0cf6191",
   "metadata": {},
   "source": [
    "总数量"
   ]
  },
  {
   "cell_type": "code",
   "execution_count": null,
   "id": "c174523a-8cfd-41dc-89fb-96f03c5cda09",
   "metadata": {},
   "outputs": [],
   "source": [
    "# Real info\n",
    "    ddi = []\n",
    "    lci = []\n",
    "    nti = []\n",
    "    vui = []\n",
    "    eni = []\n",
    "    cri = []\n",
    "    ewi = []\n",
    "    exi = []\n",
    "    ddii = requests.post(r'https://www.iucnredlist.org/dosearch/assessments/_search?size=%s&_source=false&from=0&track_total_hits=true' % ddcc, data=dd, headers=headers).json()['hits']['hits']\n",
    "    lcii = requests.post(r'https://www.iucnredlist.org/dosearch/assessments/_search?size=%s&_source=false&from=0&track_total_hits=true' % lccc, data=lc, headers=headers).json()['hits']['hits']\n",
    "    ntii = requests.post(r'https://www.iucnredlist.org/dosearch/assessments/_search?size=%s&_source=false&from=0&track_total_hits=true' % ntcc, data=nt, headers=headers).json()['hits']['hits']\n",
    "    vuii = requests.post(r'https://www.iucnredlist.org/dosearch/assessments/_search?size=%s&_source=false&from=0&track_total_hits=true' % vucc, data=vu, headers=headers).json()['hits']['hits']\n",
    "    enii = requests.post(r'https://www.iucnredlist.org/dosearch/assessments/_search?size=%s&_source=false&from=0&track_total_hits=true' % encc, data=en, headers=headers).json()['hits']['hits']\n",
    "    crii = requests.post(r'https://www.iucnredlist.org/dosearch/assessments/_search?size=%s&_source=false&from=0&track_total_hits=true' % crcc, data=cr, headers=headers).json()['hits']['hits']\n",
    "    ewii = requests.post(r'https://www.iucnredlist.org/dosearch/assessments/_search?size=%s&_source=false&from=0&track_total_hits=true' % ewcc, data=ew, headers=headers).json()['hits']['hits']\n",
    "    exii = requests.post(r'https://www.iucnredlist.org/dosearch/assessments/_search?size=%s&_source=false&from=0&track_total_hits=true' % excc, data=ex, headers=headers).json()['hits']['hits']"
   ]
  },
  {
   "cell_type": "markdown",
   "id": "3a00c871-cf08-43d7-ae59-9ad7bfbd05ef",
   "metadata": {},
   "source": [
    "这里就干脆自己看吧，就是动物信息的链接"
   ]
  },
  {
   "cell_type": "code",
   "execution_count": null,
   "id": "54d651b1-6af8-4793-9a8f-b6cdd3f571cd",
   "metadata": {},
   "outputs": [],
   "source": [
    "    for elem in ddii:\n",
    "        try:\n",
    "            ddi.append({'sci': elem['fields']['scientificName'][0], 'comm': elem['fields']['commonName'][0], 'level': 'DD/Data Deficient', 'notice': '''We don't have enough data to determine the species' status.'''})\n",
    "        except KeyError:\n",
    "            ddi.append({'sci': elem['fields']['scientificName'][0], 'comm': 'None', 'level': 'DD/Data Deficient', 'notice': '''We don't have enough data to determine the species' status.'''})"
   ]
  },
  {
   "cell_type": "markdown",
   "id": "9a3acd82-efe1-42d2-ae25-bdb2a122c9e6",
   "metadata": {},
   "source": [
    "八段基本一样，KeyError针对没有common name的动物"
   ]
  },
  {
   "cell_type": "code",
   "execution_count": null,
   "id": "120c9398-087e-4e14-8c2f-43093a6e2505",
   "metadata": {},
   "outputs": [],
   "source": [
    "    with open('dd.json', 'w', encoding='utf-8') as f:\n",
    "        json.dump(ddi, f)\n",
    "    with open('lc.json', 'w', encoding='utf-8') as f:\n",
    "        json.dump(lci, f)\n",
    "    with open('nt.json', 'w', encoding='utf-8') as f:\n",
    "        json.dump(nti, f)\n",
    "    with open('vu.json', 'w', encoding='utf-8') as f:\n",
    "        json.dump(vui, f)\n",
    "    with open('en.json', 'w', encoding='utf-8') as f:\n",
    "        json.dump(eni, f)\n",
    "    with open('cr.json', 'w', encoding='utf-8') as f:\n",
    "        json.dump(cri, f)\n",
    "    with open('ew.json', 'w', encoding='utf-8') as f:\n",
    "        json.dump(ewi, f)\n",
    "    with open('ex.json', 'w', encoding='utf-8') as f:\n",
    "        json.dump(exi, f)"
   ]
  },
  {
   "cell_type": "markdown",
   "id": "07d71fb8-9cc6-44bc-b0c3-d4ce0824d398",
   "metadata": {},
   "source": [
    "存文件"
   ]
  },
  {
   "cell_type": "markdown",
   "id": "9eb316ca-3c5f-475c-b1d9-9dab97821e2f",
   "metadata": {},
   "source": [
    "## exceptions.py 处理异常，但是不能退出"
   ]
  },
  {
   "cell_type": "code",
   "execution_count": null,
   "id": "face2fe6-389b-4d71-a1b9-67c419c46da1",
   "metadata": {},
   "outputs": [],
   "source": [
    "class fileNotFoundWarning(RuntimeWarning):\n",
    "    def __init__(self, filename):\n",
    "        self.f = filename\n",
    "    def __str__(self):\n",
    "        return 'File %s not found!' % self.f\n",
    "\n",
    "class fileNotFoundError(RuntimeError):\n",
    "    def __init__(self, filename):\n",
    "        self.f = filename\n",
    "    def __str__(self):\n",
    "        return 'File %s not found, please exit manually and fix problem (or maybe just refresh the database)!' % self.f"
   ]
  },
  {
   "cell_type": "markdown",
   "id": "61878d40-aebe-4af9-856f-2b49891e5849",
   "metadata": {},
   "source": [
    "不多说了，两个异常类"
   ]
  },
  {
   "cell_type": "markdown",
   "id": "231dce00-40f7-4a1b-a59d-bf0708319678",
   "metadata": {},
   "source": [
    "## fcheck.py 检查文件是否存在 内部文件"
   ]
  },
  {
   "cell_type": "code",
   "execution_count": null,
   "id": "9cef11ce-cfef-484c-9cc0-6cc44d2d2ad4",
   "metadata": {},
   "outputs": [],
   "source": [
    "import exceptions\n",
    "import os\n",
    "\n",
    "flist = ['dd.json', 'lc.json', 'nt.json', 'vu.json', 'en.json', 'cr.json', 'ew.json', 'ex.json']\n",
    "\n",
    "def doFileExistanceCheck(aserr):\n",
    "    for elem in flist:\n",
    "        try:\n",
    "            f = open(elem, 'x')\n",
    "            f.close()\n",
    "        except FileExistsError:\n",
    "            pass\n",
    "        else:\n",
    "            os.system('rm -rf %s' % elem)\n",
    "            if aserr == False:\n",
    "                raise exceptions.fileNotFoundWarning(elem)\n",
    "            else:\n",
    "                raise exceptions.fileNotFoundError(elem)"
   ]
  },
  {
   "cell_type": "markdown",
   "id": "6aee596f-137e-45d1-b365-aca443ea30a6",
   "metadata": {},
   "source": [
    "exceptions刚讲，os用来删掉创建的文件"
   ]
  },
  {
   "cell_type": "markdown",
   "id": "e63928e8-8076-4d50-9c23-84803856b6e4",
   "metadata": {},
   "source": [
    "## guimatch.py 匹配名称"
   ]
  },
  {
   "cell_type": "code",
   "execution_count": null,
   "id": "b1a1889a-550c-4ba8-a24f-2df4fedb6b28",
   "metadata": {},
   "outputs": [],
   "source": [
    "import json\n",
    "import fcheck\n",
    "\n",
    "ddi = []\n",
    "lci = []\n",
    "nti = []\n",
    "vui = []\n",
    "eni = []\n",
    "cri = []\n",
    "ewi = []\n",
    "exi = []\n",
    "\n",
    "def openf(aserr):\n",
    "    fcheck.doFileExistanceCheck(aserr)\n",
    "    global ddi\n",
    "    global lci\n",
    "    global nti\n",
    "    global vui\n",
    "    global eni\n",
    "    global cri\n",
    "    global ewi\n",
    "    global exi\n",
    "    with open('dd.json', 'r') as f:\n",
    "        ddi = json.load(f)\n",
    "    with open('lc.json', 'r') as f:\n",
    "        lci = json.load(f)\n",
    "    with open('nt.json', 'r') as f:\n",
    "        nti = json.load(f)\n",
    "    with open('vu.json', 'r') as f:\n",
    "        vui = json.load(f)\n",
    "    with open('en.json', 'r') as f:\n",
    "        eni = json.load(f)\n",
    "    with open('cr.json', 'r') as f:\n",
    "        cri = json.load(f)\n",
    "    with open('ew.json', 'r') as f:\n",
    "        ewi = json.load(f)\n",
    "    with open('ex.json', 'r') as f:\n",
    "        exi = json.load(f)"
   ]
  },
  {
   "cell_type": "markdown",
   "id": "769567f2-c28f-42d2-9371-4be538605a51",
   "metadata": {},
   "source": [
    "打开文件，处理数据，引用了fcheck和json（打开文件）"
   ]
  },
  {
   "cell_type": "code",
   "execution_count": null,
   "id": "b03c5002-fcde-4c0f-8172-11d7b59dad5c",
   "metadata": {},
   "outputs": [],
   "source": [
    "def calculate(target, aserr, assci):\n",
    "    openf(aserr)\n",
    "    #stores as (sciname, comname, level, notice)\n",
    "    ans = []\n",
    "    flag = False\n",
    "    if len(target.split(' ')) > 1:\n",
    "        flag = True\n",
    "    tgetlst = []\n",
    "    found = []\n",
    "    pos = {}\n",
    "    wordlst = []\n",
    "    if flag == True:\n",
    "        tgetlst = target.split(' ')\n",
    "        for i in range(0, len(tgetlst)):\n",
    "            tgetlst[i] = tgetlst[i].lower()\n",
    "        for i in range(0, len(tgetlst)+1):\n",
    "            found.append(0)\n",
    "        for i in range(0, len(tgetlst)):\n",
    "            pos[tgetlst[i]] = i+1"
   ]
  },
  {
   "cell_type": "markdown",
   "id": "066f2aea-25e1-4be2-a238-0989033000e2",
   "metadata": {},
   "source": [
    "主要是对多词搜索的特殊处理"
   ]
  },
  {
   "cell_type": "code",
   "execution_count": null,
   "id": "e071ed7b-fcb2-46fa-b3b2-e1e7a906c93c",
   "metadata": {},
   "outputs": [],
   "source": [
    "    for elem in ddi:\n",
    "        if assci == False:\n",
    "            wordlst = elem['comm'].split(' ')\n",
    "        else:\n",
    "            wordlst = elem['sci'].split(' ')\n",
    "        for word in wordlst:\n",
    "            if flag == False and word.lower() == target.lower():\n",
    "                ans.append((elem['sci'], elem['comm'], elem['level'], elem['notice']))\n",
    "            elif flag == True and word.lower() != target.lower():\n",
    "                try:\n",
    "                    if(pos[word.lower()] > 0):\n",
    "                        found[pos[word.lower()]] += 1\n",
    "                except KeyError:\n",
    "                    pass\n",
    "        if flag == True:\n",
    "            tmp = True\n",
    "            for i in range(1, len(tgetlst)+1):\n",
    "                if found[i] == 0:\n",
    "                    tmp = False\n",
    "                    break\n",
    "                if tmp == True:\n",
    "                    ans.append((elem['sci'], elem['comm'], elem['level'], elem['notice']))\n",
    "            for i in range(0, len(tgetlst)+1):\n",
    "                found[i] = 0"
   ]
  },
  {
   "cell_type": "markdown",
   "id": "15b6eeb4-3dbe-4858-ba9d-a40313abdd2d",
   "metadata": {},
   "source": [
    "八段基本一样不多贴，用单词匹配，有一个可选的科学名称搜索"
   ]
  },
  {
   "cell_type": "code",
   "execution_count": null,
   "id": "bde711df-2278-43e3-8054-e0cb67f64403",
   "metadata": {},
   "outputs": [],
   "source": [
    "    ans.sort(key = lambda elem:elem[1])\n",
    "    actans = []\n",
    "    for elem in ans:\n",
    "        if elem not in actans:\n",
    "            actans.append(elem)\n",
    "    return actans"
   ]
  },
  {
   "cell_type": "markdown",
   "id": "c9424c9c-123e-4fc2-b6a9-5bc973e7447d",
   "metadata": {},
   "source": [
    "做排序和去重"
   ]
  },
  {
   "cell_type": "markdown",
   "id": "7dabe3c1-0e41-4e3f-8f2e-5609af2e9b68",
   "metadata": {},
   "source": [
    "## guimain.py 主程序"
   ]
  },
  {
   "cell_type": "code",
   "execution_count": null,
   "id": "0e7d8452-079d-471c-b853-79c155135668",
   "metadata": {},
   "outputs": [],
   "source": [
    "from tkinter import *\n",
    "from tkinter import messagebox\n",
    "import iucn\n",
    "import guimatch\n",
    "import time"
   ]
  },
  {
   "cell_type": "markdown",
   "id": "fbdb9214-06b0-41de-b134-38fdbd96ce47",
   "metadata": {},
   "source": [
    "tkinter用来做gui，iucn和guimatch见上，time用于休息5秒，避免重复误操作"
   ]
  },
  {
   "cell_type": "code",
   "execution_count": null,
   "id": "07fdee37-5447-436d-9dc2-e4e14eb49eca",
   "metadata": {},
   "outputs": [],
   "source": [
    "warnAsError = False\n",
    "\n",
    "def warnAsErr():\n",
    "    global warnAsError\n",
    "    if messagebox.askyesno(title = 'Warnings as Errors?', message = 'Do you want to treat all warning as errors?'):\n",
    "        warnAsError = True\n",
    "        print('All warnings shall be treated as errors now')"
   ]
  },
  {
   "cell_type": "markdown",
   "id": "9779093f-e04b-4d68-be0e-8abc92b92aac",
   "metadata": {},
   "source": [
    "是否把警告视为错误，和exceptions.py有关系"
   ]
  },
  {
   "cell_type": "code",
   "execution_count": null,
   "id": "bf6d4d90-a4be-40d2-ab67-ba88c2aa7df8",
   "metadata": {},
   "outputs": [],
   "source": [
    "def selectcallback(res):\n",
    "    res = schlst.get(ACTIVE)\n",
    "    ans = guimatch.calculate(schinput.get(), warnAsError, isChecked.get())\n",
    "    for elem in ans:\n",
    "        if elem[1] == res:\n",
    "            messagebox.showinfo(title = 'Details about %s' % elem[1], message = '''Scientific name: %s\n",
    "\n",
    "Common name: %s\n",
    "\n",
    "Danger level: %s\n",
    "\n",
    "A notice for you: %s''' % (elem[0], elem[1], elem[2], elem[3]))\n",
    "            if messagebox.askyesno(title = 'Copy?', message = 'Copy to clipboard?'):\n",
    "                frame.clipboard_clear()\n",
    "                frame.clipboard_append('''Scientific name: %s\n",
    "Common name: %s\n",
    "Danger level: %s\n",
    "A notice for you: %s''' % (elem[0], elem[1], elem[2], elem[3]))\n",
    "            frame.update()\n",
    "            return\n",
    "    time.sleep(5)"
   ]
  },
  {
   "cell_type": "markdown",
   "id": "51c16d3f-d596-4f00-bc79-f7e06b084f9a",
   "metadata": {},
   "source": [
    "双击元素时显示对应信息"
   ]
  },
  {
   "cell_type": "code",
   "execution_count": null,
   "id": "9763646c-6319-4c38-823e-5702f20c8505",
   "metadata": {},
   "outputs": [],
   "source": [
    "def refcallback():\n",
    "    iucn.getjson()\n",
    "    messagebox.showinfo(title = 'Completed!', message = 'Completed refreshing!')"
   ]
  },
  {
   "cell_type": "markdown",
   "id": "6ccccb10-4e70-4c11-a6bc-cfd28be838cc",
   "metadata": {},
   "source": [
    "更新元素"
   ]
  },
  {
   "cell_type": "code",
   "execution_count": null,
   "id": "0f8d4b45-a1b3-415f-8543-2be215634bcd",
   "metadata": {},
   "outputs": [],
   "source": [
    "def schcallback():\n",
    "    schlst.delete(0, END)\n",
    "    ans = guimatch.calculate(schinput.get(), warnAsError, isChecked.get())\n",
    "    disp = []\n",
    "    for elem in ans:\n",
    "        disp.append(elem[1])\n",
    "    for elem in disp:\n",
    "        schlst.insert(END, elem)\n",
    "    schlst.pack()"
   ]
  },
  {
   "cell_type": "markdown",
   "id": "45406556-8691-486b-af12-a2b8d89ae17d",
   "metadata": {},
   "source": [
    "搜索元素"
   ]
  },
  {
   "cell_type": "code",
   "execution_count": null,
   "id": "b3b56383-8d50-4f97-8908-738ffd919757",
   "metadata": {},
   "outputs": [],
   "source": [
    "if __name__ == '__main__':\n",
    "    frame = Tk()\n",
    "    frame.title('IUCN animal searcher')\n",
    "    frame.geometry('700x500')\n",
    "    warnAsErr()\n",
    "    global isChecked\n",
    "    isChecked = BooleanVar()\n",
    "    reflab = Label(frame, text = 'Refresh Database (this will take up to 5-6 minutes)')\n",
    "    refbtn = Button(frame, text = 'Refresh', command = refcallback)\n",
    "    reflab.pack()\n",
    "    refbtn.pack()\n",
    "    schlab = Label(frame, text = 'Search the animal you want')\n",
    "    schinput = Entry(frame)\n",
    "    schsci = Checkbutton(frame, text = 'Use scientific names', variable = isChecked, offvalue = False, onvalue = True)\n",
    "    schbtn = Button(frame, text = 'Search', command = schcallback)\n",
    "    schlst = Listbox(frame, selectmode = SINGLE, width = 75, height = 25)\n",
    "    schlst.bind('<Double-Button-1>', selectcallback)\n",
    "    schlab.pack()\n",
    "    schinput.pack()\n",
    "    schsci.pack()\n",
    "    schbtn.pack()\n",
    "    frame.mainloop()\n",
    "else:\n",
    "    raise exceptions.notMainError()"
   ]
  },
  {
   "cell_type": "markdown",
   "id": "22a67af7-8dfa-4b0a-af0f-b0dabd0225ed",
   "metadata": {},
   "source": [
    "这是做GUI封装的地方，非主程序就抛出异常"
   ]
  }
 ],
 "metadata": {
  "kernelspec": {
   "display_name": "Python 3 (ipykernel)",
   "language": "python",
   "name": "python3"
  },
  "language_info": {
   "codemirror_mode": {
    "name": "ipython",
    "version": 3
   },
   "file_extension": ".py",
   "mimetype": "text/x-python",
   "name": "python",
   "nbconvert_exporter": "python",
   "pygments_lexer": "ipython3",
   "version": "3.9.6"
  }
 },
 "nbformat": 4,
 "nbformat_minor": 5
}
