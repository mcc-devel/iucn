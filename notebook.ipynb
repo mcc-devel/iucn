{
 "cells": [
  {
   "cell_type": "markdown",
   "source": [
    "# iucn 爬取iucnredlist数据"
   ],
   "metadata": {}
  },
  {
   "cell_type": "markdown",
   "source": [
    "## iucn.py 爬取数据 已废弃"
   ],
   "metadata": {}
  },
  {
   "cell_type": "code",
   "execution_count": null,
   "source": [
    "import json\n",
    "import requests\n",
    "import exceptions"
   ],
   "outputs": [],
   "metadata": {}
  },
  {
   "cell_type": "markdown",
   "source": [
    "json 存储文件\n",
    "requests 爬取数据"
   ],
   "metadata": {}
  },
  {
   "cell_type": "code",
   "execution_count": null,
   "source": [
    "def getjson():\n",
    "    raise exceptions.deprecatedMethodWarning('iucn.getjson()', 'iucn_getmore.getjson()')"
   ],
   "outputs": [],
   "metadata": {}
  },
  {
   "cell_type": "markdown",
   "source": [
    "已废弃"
   ],
   "metadata": {}
  },
  {
   "cell_type": "code",
   "execution_count": null,
   "source": [
    "    headers = {\n",
    "        'user-agent': 'Mozilla/5.0 (Windows NT 10.0; Win64; x64) AppleWebKit/537.36 (KHTML, like Gecko) Chrome/93.0.4541.0 Safari/537.36 Edg/93.0.932.0',\n",
    "        'content-type': 'application/json; charset=UTF-8'\n",
    "    }"
   ],
   "outputs": [],
   "metadata": {}
  },
  {
   "cell_type": "markdown",
   "source": [
    "这里user-agent给到大家"
   ],
   "metadata": {}
  },
  {
   "cell_type": "code",
   "execution_count": null,
   "source": [
    "    # Payloads\n",
    "    # Real info\n",
    "    dd = '''{\"stored_fields\":[\"hasImage\",\"hasPoints\",\"hasRanges\",\"image.id\",\"image.url\",\"image.urlThumb\",\"image.credit\",\"scopes.id\",\"scopes.code\",\"scopes.jsonDescription\",\"kingdomName\",\"className\",\"commonName\",\"scientificName\",\"sisTaxonId\",\"redListCategory.scaleCode\",\"redListCategory.order\",\"redListCategory.code\",\"redListCategory.jsonDescription\",\"populationTrend.id\",\"populationTrend.code\",\"populationTrend.jsonDescription\"],\"query\":{\"bool\":{\"must\":[],\"filter\":{\"bool\":{\"filter\":[{\"terms\":{\"scopes.code\":[\"1\"]}},{\"terms\":{\"redListCategory.scaleCode\":[\"dd\"]}},{\"terms\":{\"taxonLevel\":[\"Species\"]}}],\"should\":[],\"minimum_should_match\":0}},\"should\":[{\"term\":{\"hasImage\":{\"value\":true,\"boost\":6}}}]}},\"sort\":[{\"_score\":{\"order\":\"desc\"}}]}'''  # Data Deficient\n",
    "    lc = '''{\"stored_fields\":[\"hasImage\",\"hasPoints\",\"hasRanges\",\"image.id\",\"image.url\",\"image.urlThumb\",\"image.credit\",\"scopes.id\",\"scopes.code\",\"scopes.jsonDescription\",\"kingdomName\",\"className\",\"commonName\",\"scientificName\",\"sisTaxonId\",\"redListCategory.scaleCode\",\"redListCategory.order\",\"redListCategory.code\",\"redListCategory.jsonDescription\",\"populationTrend.id\",\"populationTrend.code\",\"populationTrend.jsonDescription\"],\"query\":{\"bool\":{\"must\":[],\"filter\":{\"bool\":{\"filter\":[{\"terms\":{\"scopes.code\":[\"1\"]}},{\"terms\":{\"redListCategory.scaleCode\":[\"lc\"]}},{\"terms\":{\"taxonLevel\":[\"Species\"]}}],\"should\":[],\"minimum_should_match\":0}},\"should\":[{\"term\":{\"hasImage\":{\"value\":true,\"boost\":6}}}]}},\"sort\":[{\"_score\":{\"order\":\"desc\"}}]}'''  # Least Concern\n",
    "    nt = '''{\"stored_fields\":[\"hasImage\",\"hasPoints\",\"hasRanges\",\"image.id\",\"image.url\",\"image.urlThumb\",\"image.credit\",\"scopes.id\",\"scopes.code\",\"scopes.jsonDescription\",\"kingdomName\",\"className\",\"commonName\",\"scientificName\",\"sisTaxonId\",\"redListCategory.scaleCode\",\"redListCategory.order\",\"redListCategory.code\",\"redListCategory.jsonDescription\",\"populationTrend.id\",\"populationTrend.code\",\"populationTrend.jsonDescription\"],\"query\":{\"bool\":{\"must\":[],\"filter\":{\"bool\":{\"filter\":[{\"terms\":{\"scopes.code\":[\"1\"]}},{\"terms\":{\"redListCategory.scaleCode\":[\"nt\"]}},{\"terms\":{\"taxonLevel\":[\"Species\"]}}],\"should\":[],\"minimum_should_match\":0}},\"should\":[{\"term\":{\"hasImage\":{\"value\":true,\"boost\":6}}}]}},\"sort\":[{\"_score\":{\"order\":\"desc\"}}]}'''  # Near Threatened\n",
    "    vu = '''{\"stored_fields\":[\"hasImage\",\"hasPoints\",\"hasRanges\",\"image.id\",\"image.url\",\"image.urlThumb\",\"image.credit\",\"scopes.id\",\"scopes.code\",\"scopes.jsonDescription\",\"kingdomName\",\"className\",\"commonName\",\"scientificName\",\"sisTaxonId\",\"redListCategory.scaleCode\",\"redListCategory.order\",\"redListCategory.code\",\"redListCategory.jsonDescription\",\"populationTrend.id\",\"populationTrend.code\",\"populationTrend.jsonDescription\"],\"query\":{\"bool\":{\"must\":[],\"filter\":{\"bool\":{\"filter\":[{\"terms\":{\"scopes.code\":[\"1\"]}},{\"terms\":{\"redListCategory.scaleCode\":[\"vu\"]}},{\"terms\":{\"taxonLevel\":[\"Species\"]}}],\"should\":[],\"minimum_should_match\":0}},\"should\":[{\"term\":{\"hasImage\":{\"value\":true,\"boost\":6}}}]}},\"sort\":[{\"_score\":{\"order\":\"desc\"}}]}'''  # Vulnerable\n",
    "    en = '''{\"stored_fields\":[\"hasImage\",\"hasPoints\",\"hasRanges\",\"image.id\",\"image.url\",\"image.urlThumb\",\"image.credit\",\"scopes.id\",\"scopes.code\",\"scopes.jsonDescription\",\"kingdomName\",\"className\",\"commonName\",\"scientificName\",\"sisTaxonId\",\"redListCategory.scaleCode\",\"redListCategory.order\",\"redListCategory.code\",\"redListCategory.jsonDescription\",\"populationTrend.id\",\"populationTrend.code\",\"populationTrend.jsonDescription\"],\"query\":{\"bool\":{\"must\":[],\"filter\":{\"bool\":{\"filter\":[{\"terms\":{\"scopes.code\":[\"1\"]}},{\"terms\":{\"redListCategory.scaleCode\":[\"en\"]}},{\"terms\":{\"taxonLevel\":[\"Species\"]}}],\"should\":[],\"minimum_should_match\":0}},\"should\":[{\"term\":{\"hasImage\":{\"value\":true,\"boost\":6}}}]}},\"sort\":[{\"_score\":{\"order\":\"desc\"}}]}'''  # Endangered\n",
    "    cr = '''{\"stored_fields\":[\"hasImage\",\"hasPoints\",\"hasRanges\",\"image.id\",\"image.url\",\"image.urlThumb\",\"image.credit\",\"scopes.id\",\"scopes.code\",\"scopes.jsonDescription\",\"kingdomName\",\"className\",\"commonName\",\"scientificName\",\"sisTaxonId\",\"redListCategory.scaleCode\",\"redListCategory.order\",\"redListCategory.code\",\"redListCategory.jsonDescription\",\"populationTrend.id\",\"populationTrend.code\",\"populationTrend.jsonDescription\"],\"query\":{\"bool\":{\"must\":[],\"filter\":{\"bool\":{\"filter\":[{\"terms\":{\"scopes.code\":[\"1\"]}},{\"terms\":{\"redListCategory.scaleCode\":[\"cr\"]}},{\"terms\":{\"taxonLevel\":[\"Species\"]}}],\"should\":[],\"minimum_should_match\":0}},\"should\":[{\"term\":{\"hasImage\":{\"value\":true,\"boost\":6}}}]}},\"sort\":[{\"_score\":{\"order\":\"desc\"}}]}'''  # Critically Endangered\n",
    "    ew = '''{\"stored_fields\":[\"hasImage\",\"hasPoints\",\"hasRanges\",\"image.id\",\"image.url\",\"image.urlThumb\",\"image.credit\",\"scopes.id\",\"scopes.code\",\"scopes.jsonDescription\",\"kingdomName\",\"className\",\"commonName\",\"scientificName\",\"sisTaxonId\",\"redListCategory.scaleCode\",\"redListCategory.order\",\"redListCategory.code\",\"redListCategory.jsonDescription\",\"populationTrend.id\",\"populationTrend.code\",\"populationTrend.jsonDescription\"],\"query\":{\"bool\":{\"must\":[],\"filter\":{\"bool\":{\"filter\":[{\"terms\":{\"scopes.code\":[\"1\"]}},{\"terms\":{\"redListCategory.scaleCode\":[\"ew\"]}},{\"terms\":{\"taxonLevel\":[\"Species\"]}}],\"should\":[],\"minimum_should_match\":0}},\"should\":[{\"term\":{\"hasImage\":{\"value\":true,\"boost\":6}}}]}},\"sort\":[{\"_score\":{\"order\":\"desc\"}}]}'''  # Extinct In The Wild\n",
    "    ex = '''{\"stored_fields\":[\"hasImage\",\"hasPoints\",\"hasRanges\",\"image.id\",\"image.url\",\"image.urlThumb\",\"image.credit\",\"scopes.id\",\"scopes.code\",\"scopes.jsonDescription\",\"kingdomName\",\"className\",\"commonName\",\"scientificName\",\"sisTaxonId\",\"redListCategory.scaleCode\",\"redListCategory.order\",\"redListCategory.code\",\"redListCategory.jsonDescription\",\"populationTrend.id\",\"populationTrend.code\",\"populationTrend.jsonDescription\"],\"query\":{\"bool\":{\"must\":[],\"filter\":{\"bool\":{\"filter\":[{\"terms\":{\"scopes.code\":[\"1\"]}},{\"terms\":{\"redListCategory.scaleCode\":[\"ex\"]}},{\"terms\":{\"taxonLevel\":[\"Species\"]}}],\"should\":[],\"minimum_should_match\":0}},\"should\":[{\"term\":{\"hasImage\":{\"value\":true,\"boost\":6}}}]}},\"sort\":[{\"_score\":{\"order\":\"desc\"}}]}'''  # Extinct\n",
    "    # Info count\n",
    "    ddc = '''{\"aggs\":{\"list\":{\"terms\":{\"field\":\"measuresUpToRoots\",\"size\":100000,\"min_doc_count\":0}}},\"query\":{\"bool\":{\"must\":[],\"filter\":{\"bool\":{\"filter\":[{\"terms\":{\"scopes.code\":[\"1\"]}},{\"terms\":{\"redListCategory.scaleCode\":[\"dd\"]}},{\"terms\":{\"taxonLevel\":[\"Species\"]}}],\"should\":[],\"minimum_should_match\":0}}}}}'''  # Data Deficient\n",
    "    lcc = '''{\"aggs\":{\"list\":{\"terms\":{\"field\":\"measuresUpToRoots\",\"size\":100000,\"min_doc_count\":0}}},\"query\":{\"bool\":{\"must\":[],\"filter\":{\"bool\":{\"filter\":[{\"terms\":{\"scopes.code\":[\"1\"]}},{\"terms\":{\"redListCategory.scaleCode\":[\"lc\"]}},{\"terms\":{\"taxonLevel\":[\"Species\"]}}],\"should\":[],\"minimum_should_match\":0}}}}}'''  # Least Concern\n",
    "    ntc = '''{\"aggs\":{\"list\":{\"terms\":{\"field\":\"measuresUpToRoots\",\"size\":100000,\"min_doc_count\":0}}},\"query\":{\"bool\":{\"must\":[],\"filter\":{\"bool\":{\"filter\":[{\"terms\":{\"scopes.code\":[\"1\"]}},{\"terms\":{\"redListCategory.scaleCode\":[\"nt\"]}},{\"terms\":{\"taxonLevel\":[\"Species\"]}}],\"should\":[],\"minimum_should_match\":0}}}}}'''  # Near Threatened\n",
    "    vuc = '''{\"aggs\":{\"list\":{\"terms\":{\"field\":\"measuresUpToRoots\",\"size\":100000,\"min_doc_count\":0}}},\"query\":{\"bool\":{\"must\":[],\"filter\":{\"bool\":{\"filter\":[{\"terms\":{\"scopes.code\":[\"1\"]}},{\"terms\":{\"redListCategory.scaleCode\":[\"vu\"]}},{\"terms\":{\"taxonLevel\":[\"Species\"]}}],\"should\":[],\"minimum_should_match\":0}}}}}'''  # Vulnerable\n",
    "    enc = '''{\"aggs\":{\"list\":{\"terms\":{\"field\":\"measuresUpToRoots\",\"size\":100000,\"min_doc_count\":0}}},\"query\":{\"bool\":{\"must\":[],\"filter\":{\"bool\":{\"filter\":[{\"terms\":{\"scopes.code\":[\"1\"]}},{\"terms\":{\"redListCategory.scaleCode\":[\"en\"]}},{\"terms\":{\"taxonLevel\":[\"Species\"]}}],\"should\":[],\"minimum_should_match\":0}}}}}'''  # Endangered\n",
    "    crc = '''{\"aggs\":{\"list\":{\"terms\":{\"field\":\"measuresUpToRoots\",\"size\":100000,\"min_doc_count\":0}}},\"query\":{\"bool\":{\"must\":[],\"filter\":{\"bool\":{\"filter\":[{\"terms\":{\"scopes.code\":[\"1\"]}},{\"terms\":{\"redListCategory.scaleCode\":[\"cr\"]}},{\"terms\":{\"taxonLevel\":[\"Species\"]}}],\"should\":[],\"minimum_should_match\":0}}}}}'''  # Critically Endangered\n",
    "    ewc = '''{\"aggs\":{\"list\":{\"terms\":{\"field\":\"measuresUpToRoots\",\"size\":100000,\"min_doc_count\":0}}},\"query\":{\"bool\":{\"must\":[],\"filter\":{\"bool\":{\"filter\":[{\"terms\":{\"scopes.code\":[\"1\"]}},{\"terms\":{\"redListCategory.scaleCode\":[\"ew\"]}},{\"terms\":{\"taxonLevel\":[\"Species\"]}}],\"should\":[],\"minimum_should_match\":0}}}}}'''  # Extinct In The Wild\n",
    "    exc = '''{\"aggs\":{\"list\":{\"terms\":{\"field\":\"measuresUpToRoots\",\"size\":100000,\"min_doc_count\":0}}},\"query\":{\"bool\":{\"must\":[],\"filter\":{\"bool\":{\"filter\":[{\"terms\":{\"scopes.code\":[\"1\"]}},{\"terms\":{\"redListCategory.scaleCode\":[\"ex\"]}},{\"terms\":{\"taxonLevel\":[\"Species\"]}}],\"should\":[],\"minimum_should_match\":0}}}}}'''  # Extinct\n",
    "    link1 = r'https://www.iucnredlist.org/dosearch/assessments/_search?size=0&_source_excludes=ranges%2C%20legends&track_total_hits=true'"
   ],
   "outputs": [],
   "metadata": {}
  },
  {
   "cell_type": "markdown",
   "source": [
    "这是payload"
   ],
   "metadata": {}
  },
  {
   "cell_type": "code",
   "execution_count": null,
   "source": [
    "    # place1 = hits/total/value\n",
    "    # link2 = r'https://www.iucnredlist.org/dosearch/assessments/_search?size=%s&_source=false&from=0&track_total_hits=true' % ${...}\n",
    "    # place2 = hits/hits/0~xxx/fields/{commonName, scientificName}/0\n",
    "    # method = requests.post(link{1, 2}, data = {...}, headers = headers);\n",
    "    # Info count\n",
    "    ddcc = requests.post(link1, data=ddc, headers=headers).json()['hits']['total']['value']\n",
    "    lccc = requests.post(link1, data=lcc, headers=headers).json()['hits']['total']['value']\n",
    "    ntcc = requests.post(link1, data=ntc, headers=headers).json()['hits']['total']['value']\n",
    "    vucc = requests.post(link1, data=vuc, headers=headers).json()['hits']['total']['value']\n",
    "    encc = requests.post(link1, data=enc, headers=headers).json()['hits']['total']['value']\n",
    "    crcc = requests.post(link1, data=crc, headers=headers).json()['hits']['total']['value']\n",
    "    ewcc = requests.post(link1, data=ewc, headers=headers).json()['hits']['total']['value']\n",
    "    excc = requests.post(link1, data=exc, headers=headers).json()['hits']['total']['value']"
   ],
   "outputs": [],
   "metadata": {}
  },
  {
   "cell_type": "markdown",
   "source": [
    "总数量"
   ],
   "metadata": {}
  },
  {
   "cell_type": "code",
   "execution_count": null,
   "source": [
    "    # Real info\n",
    "    ddi = []\n",
    "    lci = []\n",
    "    nti = []\n",
    "    vui = []\n",
    "    eni = []\n",
    "    cri = []\n",
    "    ewi = []\n",
    "    exi = []\n",
    "    ddii = requests.post(r'https://www.iucnredlist.org/dosearch/assessments/_search?size=%s&_source=false&from=0&track_total_hits=true' % ddcc, data=dd, headers=headers).json()['hits']['hits']\n",
    "    lcii = requests.post(r'https://www.iucnredlist.org/dosearch/assessments/_search?size=%s&_source=false&from=0&track_total_hits=true' % lccc, data=lc, headers=headers).json()['hits']['hits']\n",
    "    ntii = requests.post(r'https://www.iucnredlist.org/dosearch/assessments/_search?size=%s&_source=false&from=0&track_total_hits=true' % ntcc, data=nt, headers=headers).json()['hits']['hits']\n",
    "    vuii = requests.post(r'https://www.iucnredlist.org/dosearch/assessments/_search?size=%s&_source=false&from=0&track_total_hits=true' % vucc, data=vu, headers=headers).json()['hits']['hits']\n",
    "    enii = requests.post(r'https://www.iucnredlist.org/dosearch/assessments/_search?size=%s&_source=false&from=0&track_total_hits=true' % encc, data=en, headers=headers).json()['hits']['hits']\n",
    "    crii = requests.post(r'https://www.iucnredlist.org/dosearch/assessments/_search?size=%s&_source=false&from=0&track_total_hits=true' % crcc, data=cr, headers=headers).json()['hits']['hits']\n",
    "    ewii = requests.post(r'https://www.iucnredlist.org/dosearch/assessments/_search?size=%s&_source=false&from=0&track_total_hits=true' % ewcc, data=ew, headers=headers).json()['hits']['hits']\n",
    "    exii = requests.post(r'https://www.iucnredlist.org/dosearch/assessments/_search?size=%s&_source=false&from=0&track_total_hits=true' % excc, data=ex, headers=headers).json()['hits']['hits']"
   ],
   "outputs": [],
   "metadata": {}
  },
  {
   "cell_type": "markdown",
   "source": [
    "这里就干脆自己看吧，就是动物信息的链接"
   ],
   "metadata": {}
  },
  {
   "cell_type": "code",
   "execution_count": null,
   "source": [
    "    for elem in ddii:\n",
    "        try:\n",
    "            ddi.append({'sci': elem['fields']['scientificName'][0], 'comm': elem['fields']['commonName'][0], 'level': 'DD/Data Deficient', 'notice': '''We don't have enough data to determine the species' status.'''})\n",
    "        except KeyError:\n",
    "            ddi.append({'sci': elem['fields']['scientificName'][0], 'comm': 'None', 'level': 'DD/Data Deficient', 'notice': '''We don't have enough data to determine the species' status.'''})\n",
    "    for elem in lcii:\n",
    "        try:\n",
    "            lci.append({'sci': elem['fields']['scientificName'][0], 'comm': elem['fields']['commonName'][0], 'level': 'LC/Least Concern', 'notice': '''This species is perfectly fine.'''})\n",
    "        except KeyError:\n",
    "            lci.append({'sci': elem['fields']['scientificName'][0], 'comm': 'None', 'level': 'LC/Least Concern', 'notice': '''This species is perfectly fine.'''})\n",
    "    for elem in ntii:\n",
    "        try:\n",
    "            nti.append({'sci': elem['fields']['scientificName'][0], 'comm': elem['fields']['commonName'][0], 'level': 'NT/Near Threatened', 'notice': '''This species might be threatened in the future, protect it!'''})\n",
    "        except KeyError:\n",
    "            nti.append({'sci': elem['fields']['scientificName'][0], 'comm': 'None', 'level': 'NT/Near Threatened', 'notice': '''This species might be threatened in the future, protect it!'''})\n",
    "    for elem in vuii:\n",
    "        try:\n",
    "            vui.append({'sci': elem['fields']['scientificName'][0], 'comm': elem['fields']['commonName'][0], 'level': 'VU/Vulnerable', 'notice': '''This species is at risk of extinction, protect it!'''})\n",
    "        except KeyError:\n",
    "            vui.append({'sci': elem['fields']['scientificName'][0], 'comm': 'None', 'level': 'VU/Vulnerable', 'notice': '''This species is at risk of extinction, protect it!'''})\n",
    "    for elem in enii:\n",
    "        try:\n",
    "            eni.append({'sci': elem['fields']['scientificName'][0], 'comm': elem['fields']['commonName'][0], 'level': 'EN/Endangered', 'notice': '''This species is at high risk of extinction, protect it!'''})\n",
    "        except KeyError:\n",
    "            eni.append({'sci': elem['fields']['scientificName'][0], 'comm': 'None', 'level': 'EN/Endangered', 'notice': '''This species is at high risk of extinction, protect it!'''})\n",
    "    for elem in crii:\n",
    "        try:\n",
    "            cri.append({'sci': elem['fields']['scientificName'][0], 'comm': elem['fields']['commonName'][0], 'level': 'CR/Critically Endangered', 'notice': '''This species is at very high risk of extinction, protect it!'''})\n",
    "        except KeyError:\n",
    "            cri.append({'sci': elem['fields']['scientificName'][0], 'comm': 'None', 'level': 'CR/Critically Endangered', 'notice': '''This species is at very high risk of extinction, protect it!'''})\n",
    "    for elem in ewii:\n",
    "        try:\n",
    "            ewi.append({'sci': elem['fields']['scientificName'][0], 'comm': elem['fields']['commonName'][0], 'level': 'EW/Extinct In The Wild', 'notice': '''This species is already extinct in the wild.'''})\n",
    "        except KeyError:\n",
    "            ewi.append({'sci': elem['fields']['scientificName'][0], 'comm': 'None', 'level': 'EW/Extinct In The Wild', 'notice': '''This species is already extinct in the wild.'''})\n",
    "    for elem in exii:\n",
    "        try:\n",
    "            exi.append({'sci': elem['fields']['scientificName'][0], 'comm': elem['fields']['commonName'][0], 'level': 'EX/Extinct', 'notice': '''Sorry, this species is already extinct.'''})\n",
    "        except KeyError:\n",
    "            exi.append({'sci': elem['fields']['scientificName'][0], 'comm': 'None', 'level': 'EX/Extinct', 'notice': '''Sorry, this species is already extinct.'''})"
   ],
   "outputs": [],
   "metadata": {}
  },
  {
   "cell_type": "markdown",
   "source": [
    "八段基本一样，KeyError针对没有common name的动物"
   ],
   "metadata": {}
  },
  {
   "cell_type": "code",
   "execution_count": null,
   "source": [
    "    with open('dd.json', 'w', encoding='utf-8') as f:\n",
    "        json.dump(ddi, f)\n",
    "    with open('lc.json', 'w', encoding='utf-8') as f:\n",
    "        json.dump(lci, f)\n",
    "    with open('nt.json', 'w', encoding='utf-8') as f:\n",
    "        json.dump(nti, f)\n",
    "    with open('vu.json', 'w', encoding='utf-8') as f:\n",
    "        json.dump(vui, f)\n",
    "    with open('en.json', 'w', encoding='utf-8') as f:\n",
    "        json.dump(eni, f)\n",
    "    with open('cr.json', 'w', encoding='utf-8') as f:\n",
    "        json.dump(cri, f)\n",
    "    with open('ew.json', 'w', encoding='utf-8') as f:\n",
    "        json.dump(ewi, f)\n",
    "    with open('ex.json', 'w', encoding='utf-8') as f:\n",
    "        json.dump(exi, f)"
   ],
   "outputs": [],
   "metadata": {}
  },
  {
   "cell_type": "markdown",
   "source": [
    "存文件"
   ],
   "metadata": {}
  },
  {
   "cell_type": "markdown",
   "source": [
    "## iucn_getmore.py 新版爬取"
   ],
   "metadata": {}
  },
  {
   "cell_type": "code",
   "execution_count": null,
   "source": [
    "import requests\n",
    "import json"
   ],
   "outputs": [],
   "metadata": {}
  },
  {
   "cell_type": "markdown",
   "source": [
    "用过好多遍了"
   ],
   "metadata": {}
  },
  {
   "cell_type": "code",
   "execution_count": null,
   "source": [
    "def getjson():\n",
    "    headers = {\n",
    "        'user-agent': 'Mozilla/5.0 (Windows NT 10.0; Win64; x64) AppleWebKit/537.36 (KHTML, like Gecko) Chrome/93.0.4541.0 Safari/537.36 Edg/93.0.932.0',\n",
    "        'content-type': 'application/json; charset=UTF-8'\n",
    "    }"
   ],
   "outputs": [],
   "metadata": {}
  },
  {
   "cell_type": "markdown",
   "source": [
    "请求头"
   ],
   "metadata": {}
  },
  {
   "cell_type": "code",
   "execution_count": null,
   "source": [
    "    token = '9bb4facb6d23f48efbf424bb05c0c1ef1cf6f468393bc745d42179ac4aca5fee'\n",
    "    tplist = ['DD/Data Deficient', 'LC/Least Concern', 'NT/Near Threatened', 'VU/Vulnerable', 'EN/Endangered', 'CR/Critically Endangered', 'EW/Extinct In The Wild', 'EX/Extinct']\n",
    "    tpshort = ['DD', 'LC', 'NT', 'VU', 'EN', 'CR', 'EW', 'EX']"
   ],
   "outputs": [],
   "metadata": {}
  },
  {
   "cell_type": "markdown",
   "source": [
    "token：翻译\n",
    "\n",
    "tplist：长名称\n",
    "\n",
    "tpshort：短名称"
   ],
   "metadata": {}
  },
  {
   "cell_type": "code",
   "execution_count": null,
   "source": [
    "    tot = int(requests.get('http://apiv3.iucnredlist.org/api/v3/speciescount?token=%s'%(token), headers = headers).json()['count'])\n",
    "    print('Got total')\n",
    "    pgs = int(tot/10000)+1"
   ],
   "outputs": [],
   "metadata": {}
  },
  {
   "cell_type": "markdown",
   "source": [
    "总数，一万个一页，计算页数"
   ],
   "metadata": {}
  },
  {
   "cell_type": "code",
   "execution_count": null,
   "source": [
    "    fin = [[], [], [], [], [], [], [], []]\n",
    "    for i in range(pgs):\n",
    "        rs = requests.get('http://apiv3.iucnredlist.org/api/v3/species/page/%s?token=%s'%(i, token)).json()['result']\n",
    "        print('Got page %s'%(i+1))\n",
    "        for elem in rs:\n",
    "            for j in range(8):\n",
    "                if elem['category'] == tpshort[j]:\n",
    "                    if elem['main_common_name'] is not None:\n",
    "                        fin[j].append({'sci':elem['scientific_name'], 'comm':elem['main_common_name'], 'level':tplist[j], 'kingdom':elem['kingdom_name'], 'phylum':elem['phylum_name'], 'class':elem['class_name'], 'order':elem['order_name'], 'family':elem['family_name'], 'genus':elem['genus_name']})\n",
    "                    else:\n",
    "                        fin[j].append({'sci':elem['scientific_name'], 'comm':'None', 'level':tplist[j], 'kingdom':elem['kingdom_name'], 'phylum':elem['phylum_name'], 'class':elem['class_name'], 'order':elem['order_name'], 'family':elem['family_name'], 'genus':elem['genus_name']})"
   ],
   "outputs": [],
   "metadata": {}
  },
  {
   "cell_type": "markdown",
   "source": [
    "爬虫"
   ],
   "metadata": {}
  },
  {
   "cell_type": "code",
   "execution_count": null,
   "source": [
    "    for i in range(8):\n",
    "        with open('%s.json'%(tpshort[i].lower()), 'w', encoding = 'utf-8') as f:\n",
    "            json.dump(fin[i], f)"
   ],
   "outputs": [],
   "metadata": {}
  },
  {
   "cell_type": "markdown",
   "source": [
    "存文件"
   ],
   "metadata": {}
  },
  {
   "cell_type": "markdown",
   "source": [
    "## refresh.py 刷新数据"
   ],
   "metadata": {}
  },
  {
   "cell_type": "code",
   "execution_count": null,
   "source": [
    "import json\n",
    "import iucn_getmore\n",
    "from requests import get"
   ],
   "outputs": [],
   "metadata": {}
  },
  {
   "cell_type": "markdown",
   "source": [
    "需要的头文件一览"
   ],
   "metadata": {}
  },
  {
   "cell_type": "code",
   "execution_count": null,
   "source": [
    "def fastref():\n",
    "    nms = ['dd', 'lc', 'nt', 'vu', 'en', 'cr', 'ew', 'ex']\n",
    "    headers = {\n",
    "        'user-agent': 'Mozilla/5.0 (Windows NT 10.0; Win64; x64) AppleWebKit/537.36 (KHTML, like Gecko) Chrome/93.0.4541.0 Safari/537.36 Edg/93.0.932.0',\n",
    "        'content-type': 'application/json; charset=UTF-8'\n",
    "    }\n",
    "    for nm in nms:\n",
    "        rs = get('https://raw.fastgit.org/mcc-devel/iucn/main/%s.json' % nm, headers = headers).json()\n",
    "        with open('%s.json' % nm, 'w', encoding = 'utf-8') as f:\n",
    "            json.dump(rs, f)"
   ],
   "outputs": [],
   "metadata": {}
  },
  {
   "cell_type": "markdown",
   "source": [
    "从[fastgit](https://hub.fastgit.org)快速更新GitHub上的已有数据"
   ],
   "metadata": {}
  },
  {
   "cell_type": "code",
   "execution_count": null,
   "source": [
    "def slowref():\n",
    "    iucn_getmore.getjson()"
   ],
   "outputs": [],
   "metadata": {}
  },
  {
   "cell_type": "markdown",
   "source": [
    "慢速更新直接调用iucn_getmore.getjson()（见上）"
   ],
   "metadata": {}
  },
  {
   "cell_type": "markdown",
   "source": [
    "## exceptions.py 处理异常，但是不能退出"
   ],
   "metadata": {}
  },
  {
   "cell_type": "code",
   "execution_count": null,
   "source": [
    "class fileNotFoundWarning(RuntimeWarning):\n",
    "    def __init__(self, filename):\n",
    "        self.f = filename\n",
    "    def __str__(self):\n",
    "        return 'File %s not found!' % self.f\n",
    "\n",
    "class fileNotFoundError(RuntimeError):\n",
    "    def __init__(self, filename):\n",
    "        self.f = filename\n",
    "    def __str__(self):\n",
    "        return 'File %s not found, please exit manually and fix problem (or maybe just refresh the database)!' % self.f\n",
    "\n",
    "class notMainError(RuntimeError):\n",
    "    def __init__(self):\n",
    "        pass\n",
    "    def __str__(self):\n",
    "        return 'Program is not ran as __main__, please re-run it!'\n",
    "\n",
    "class deprecatedMethodWarning(PendingDeprecationWarning):\n",
    "    def __init__(self, oldn, newn):\n",
    "        self.oldn = oldn\n",
    "        self.newn = newn\n",
    "    def __str__(self):\n",
    "        return 'Method %s will be deprecated soon, use %s instead.' % (self.oldn, self.newn)"
   ],
   "outputs": [],
   "metadata": {}
  },
  {
   "cell_type": "markdown",
   "source": [
    "不多说了，四个异常类"
   ],
   "metadata": {}
  },
  {
   "cell_type": "markdown",
   "source": [
    "## fcheck.py 检查文件是否存在\n",
    "此文件为内部文件"
   ],
   "metadata": {}
  },
  {
   "cell_type": "code",
   "execution_count": null,
   "source": [
    "import exceptions\n",
    "import os\n",
    "\n",
    "flist = ['dd.json', 'lc.json', 'nt.json', 'vu.json', 'en.json', 'cr.json', 'ew.json', 'ex.json']\n",
    "\n",
    "def doFileExistanceCheck(aserr):\n",
    "    for elem in flist:\n",
    "        try:\n",
    "            f = open(elem, 'x')\n",
    "            f.close()\n",
    "        except FileExistsError:\n",
    "            pass\n",
    "        else:\n",
    "            os.system('rm -rf %s' % elem)\n",
    "            if aserr == False:\n",
    "                raise exceptions.fileNotFoundWarning(elem)\n",
    "            else:\n",
    "                raise exceptions.fileNotFoundError(elem)"
   ],
   "outputs": [],
   "metadata": {}
  },
  {
   "cell_type": "markdown",
   "source": [
    "exceptions刚讲，os用来删掉创建的文件"
   ],
   "metadata": {}
  },
  {
   "cell_type": "markdown",
   "source": [
    "## guimatch.py 匹配名称"
   ],
   "metadata": {}
  },
  {
   "cell_type": "code",
   "execution_count": null,
   "source": [
    "import json\n",
    "import fcheck\n",
    "\n",
    "ddi = []\n",
    "lci = []\n",
    "nti = []\n",
    "vui = []\n",
    "eni = []\n",
    "cri = []\n",
    "ewi = []\n",
    "exi = []\n",
    "\n",
    "def openf(aserr):\n",
    "    fcheck.doFileExistanceCheck(aserr)\n",
    "    global ddi\n",
    "    global lci\n",
    "    global nti\n",
    "    global vui\n",
    "    global eni\n",
    "    global cri\n",
    "    global ewi\n",
    "    global exi\n",
    "    with open('dd.json', 'r') as f:\n",
    "        ddi = json.load(f)\n",
    "    with open('lc.json', 'r') as f:\n",
    "        lci = json.load(f)\n",
    "    with open('nt.json', 'r') as f:\n",
    "        nti = json.load(f)\n",
    "    with open('vu.json', 'r') as f:\n",
    "        vui = json.load(f)\n",
    "    with open('en.json', 'r') as f:\n",
    "        eni = json.load(f)\n",
    "    with open('cr.json', 'r') as f:\n",
    "        cri = json.load(f)\n",
    "    with open('ew.json', 'r') as f:\n",
    "        ewi = json.load(f)\n",
    "    with open('ex.json', 'r') as f:\n",
    "        exi = json.load(f)"
   ],
   "outputs": [],
   "metadata": {}
  },
  {
   "cell_type": "markdown",
   "source": [
    "打开文件，处理数据，引用了fcheck和json（打开文件）"
   ],
   "metadata": {}
  },
  {
   "cell_type": "code",
   "execution_count": null,
   "source": [
    "def calculate(target, aserr, assci):\n",
    "    openf(aserr)\n",
    "    #stores as (sciname, comname, level, notice)\n",
    "    ans = []\n",
    "    flag = False\n",
    "    if len(target.split(' ')) > 1:\n",
    "        flag = True\n",
    "    tgetlst = []\n",
    "    found = []\n",
    "    pos = {}\n",
    "    wordlst = []\n",
    "    if flag == True:\n",
    "        tgetlst = target.split(' ')\n",
    "        for i in range(0, len(tgetlst)):\n",
    "            tgetlst[i] = tgetlst[i].lower()\n",
    "        for i in range(0, len(tgetlst)+1):\n",
    "            found.append(0)\n",
    "        for i in range(0, len(tgetlst)):\n",
    "            pos[tgetlst[i]] = i+1"
   ],
   "outputs": [],
   "metadata": {}
  },
  {
   "cell_type": "markdown",
   "source": [
    "主要是对多词搜索的特殊处理"
   ],
   "metadata": {}
  },
  {
   "cell_type": "code",
   "execution_count": null,
   "source": [
    "    for elem in ddi:\n",
    "        if assci == False:\n",
    "            wordlst = elem['comm'].split(' ')\n",
    "        else:\n",
    "            wordlst = elem['sci'].split(' ')\n",
    "        for word in wordlst:\n",
    "            if flag == False and word.lower() == target.lower():\n",
    "                ans.append((elem['sci'], elem['comm'], elem['level'], elem['notice']))\n",
    "            elif flag == True and word.lower() != target.lower():\n",
    "                try:\n",
    "                    if(pos[word.lower()] > 0):\n",
    "                        found[pos[word.lower()]] += 1\n",
    "                except KeyError:\n",
    "                    pass\n",
    "        if flag == True:\n",
    "            tmp = True\n",
    "            for i in range(1, len(tgetlst)+1):\n",
    "                if found[i] == 0:\n",
    "                    tmp = False\n",
    "                    break\n",
    "                if tmp == True:\n",
    "                    ans.append((elem['sci'], elem['comm'], elem['level'], elem['notice']))\n",
    "            for i in range(0, len(tgetlst)+1):\n",
    "                found[i] = 0"
   ],
   "outputs": [],
   "metadata": {}
  },
  {
   "cell_type": "markdown",
   "source": [
    "八段基本一样不多贴，用单词匹配，有一个可选的科学名称搜索"
   ],
   "metadata": {}
  },
  {
   "cell_type": "code",
   "execution_count": null,
   "source": [
    "    ans.sort(key = lambda elem:elem[1])\n",
    "    actans = []\n",
    "    for elem in ans:\n",
    "        if elem not in actans:\n",
    "            actans.append(elem)\n",
    "    return actans"
   ],
   "outputs": [],
   "metadata": {}
  },
  {
   "cell_type": "markdown",
   "source": [
    "做排序和去重"
   ],
   "metadata": {}
  },
  {
   "cell_type": "markdown",
   "source": [
    "## guimain.py 主程序"
   ],
   "metadata": {}
  },
  {
   "cell_type": "code",
   "execution_count": null,
   "source": [
    "from tkinter import *\n",
    "from tkinter import messagebox\n",
    "from tkinter.ttk import Combobox\n",
    "import guimatch\n",
    "import refresh\n",
    "import time\n",
    "import exceptions"
   ],
   "outputs": [],
   "metadata": {}
  },
  {
   "cell_type": "markdown",
   "source": [
    "tkinter用来做gui，guimatch refresh见上，time用于休息5秒，避免重复误操作"
   ],
   "metadata": {}
  },
  {
   "cell_type": "code",
   "execution_count": null,
   "source": [
    "warnAsError = False\n",
    "\n",
    "def warnAsErr():\n",
    "    global warnAsError\n",
    "    if messagebox.askyesno(title = 'Warnings as Errors?', message = 'Do you want to treat all warning as errors?'):\n",
    "        warnAsError = True\n",
    "        print('All warnings shall be treated as errors now')"
   ],
   "outputs": [],
   "metadata": {}
  },
  {
   "cell_type": "markdown",
   "source": [
    "是否把警告视为错误，和exceptions.py有关系"
   ],
   "metadata": {}
  },
  {
   "cell_type": "code",
   "execution_count": null,
   "source": [
    "def selectcallback(res):\n",
    "    res = schlst.get(ACTIVE)\n",
    "    res = res.replace(' (Scientific name, no common name avaliable)', '')\n",
    "    ans = guimatch.calculate(schinput.get(), warnAsError, isComm.get(), isSci.get(), opt.get())\n",
    "    for elem in ans:\n",
    "        if elem[1] == res:\n",
    "            messagebox.showinfo(title = 'Details about %s' % elem[1], message = '''Scientific name: %s\n",
    "\n",
    "Common name: %s\n",
    "\n",
    "Danger level: %s\n",
    "\n",
    "A notice for you: %s''' % (elem[0], elem[1], elem[2], elem[3]))\n",
    "            if messagebox.askyesno(title = 'Copy?', message = 'Copy to clipboard?'):\n",
    "                frame.clipboard_clear()\n",
    "                frame.clipboard_append('''Scientific name: %s\n",
    "Common name: %s\n",
    "Danger level: %s\n",
    "A notice for you: %s''' % (elem[0], elem[1], elem[2], elem[3]))\n",
    "            frame.update()\n",
    "            return\n",
    "        elif elem[1] == 'None' and elem[0] == res:\n",
    "            messagebox.showinfo(title = 'Details about %s' % elem[0], message = '''Scientific name: %s\n",
    "\n",
    "Common name: %s\n",
    "\n",
    "Danger level: %s\n",
    "\n",
    "A notice for you: %s''' % (elem[0], elem[1], elem[2], elem[3]))\n",
    "            if messagebox.askyesno(title = 'Copy?', message = 'Copy to clipboard?'):\n",
    "                frame.clipboard_clear()\n",
    "                frame.clipboard_append('''Scientific name: %s\n",
    "Common name: %s\n",
    "Danger level: %s\n",
    "A notice for you: %s''' % (elem[0], elem[1], elem[2], elem[3]))\n",
    "            frame.update()\n",
    "            return\n",
    "    time.sleep(5)"
   ],
   "outputs": [],
   "metadata": {}
  },
  {
   "cell_type": "markdown",
   "source": [
    "双击元素时显示对应信息"
   ],
   "metadata": {}
  },
  {
   "cell_type": "code",
   "execution_count": null,
   "source": [
    "def refcallback():\n",
    "    refresh.slowref()\n",
    "    messagebox.showinfo(title = 'Completed!', message = 'Completed refreshing!')"
   ],
   "outputs": [],
   "metadata": {}
  },
  {
   "cell_type": "markdown",
   "source": [
    "更新元素"
   ],
   "metadata": {}
  },
  {
   "cell_type": "code",
   "execution_count": null,
   "source": [
    "def reffcallback():\n",
    "    refresh.fastref()\n",
    "    messagebox.showinfo(title = 'Completed!', message = 'Completed fast refreshing!')"
   ],
   "outputs": [],
   "metadata": {}
  },
  {
   "cell_type": "markdown",
   "source": [
    "快速更新，原理见refresh.py"
   ],
   "metadata": {}
  },
  {
   "cell_type": "code",
   "execution_count": null,
   "source": [
    "def schcallback():\n",
    "    schlst.delete(0, END)\n",
    "    ans = guimatch.calculate(schinput.get(), warnAsError, isComm.get(), isSci.get(), opt.get())\n",
    "    disp = []\n",
    "    for elem in ans:\n",
    "        if elem[1] != 'None':\n",
    "            disp.append(elem[1])\n",
    "        else:\n",
    "            disp.append(elem[0] + ' (Scientific name, no common name avaliable)')\n",
    "    for elem in disp:\n",
    "        schlst.insert(END, elem)\n",
    "    schlst.pack()"
   ],
   "outputs": [],
   "metadata": {}
  },
  {
   "cell_type": "markdown",
   "source": [
    "搜索元素"
   ],
   "metadata": {}
  },
  {
   "cell_type": "code",
   "execution_count": null,
   "source": [
    "def optcallback(res):\n",
    "    schlst.delete(0, END)\n",
    "    res = guimatch.calculate(schinput.get(), warnAsError, isComm.get(), isSci.get(), opt.get())\n",
    "    disp = []\n",
    "    for elem in res:\n",
    "        if elem[1] != 'None':\n",
    "            disp.append(elem[1])\n",
    "        else:\n",
    "            disp.append(elem[0] + ' (Scientific name, no common name avaliable)')\n",
    "    for elem in disp:\n",
    "        schlst.insert(END, elem)\n",
    "    schlst.pack()"
   ],
   "outputs": [],
   "metadata": {}
  },
  {
   "cell_type": "markdown",
   "source": [
    "filter类型"
   ],
   "metadata": {}
  },
  {
   "cell_type": "code",
   "execution_count": null,
   "source": [
    "if __name__ == '__main__':\n",
    "    frame = Tk()\n",
    "    frame.title('IUCN animal searcher')\n",
    "    frame.geometry('700x600')\n",
    "    warnAsErr()\n",
    "    global isSci\n",
    "    global isComm\n",
    "    global opt\n",
    "    isSci = BooleanVar()\n",
    "    isComm = BooleanVar()\n",
    "    opt = StringVar()\n",
    "    reflab = Label(frame, text = 'Refresh Database (this will take up to 5-6 minutes)')\n",
    "    refbtn = Button(frame, text = 'Refresh', command = refcallback)\n",
    "    refflab = Label(frame, text = 'Fast refresh from GitHub')\n",
    "    reffbtn = Button(frame, text = 'Fast Refresh', command = reffcallback)\n",
    "    reflab.pack()\n",
    "    refbtn.pack()\n",
    "    refflab.pack()\n",
    "    reffbtn.pack()\n",
    "    schlab = Label(frame, text = 'Search the animal you want')\n",
    "    schinput = Entry(frame)\n",
    "    options = Frame(frame)\n",
    "    schcomm = Checkbutton(options, text = 'Use common names', variable = isComm, offvalue = False, onvalue = True)\n",
    "    schsci = Checkbutton(options, text = 'Use scientific names', variable = isSci, offvalue = False, onvalue = True)\n",
    "    schfil = Combobox(frame, values = lvls, state = 'readonly', textvariable = opt)\n",
    "    schfil.bind('<<ComboboxSelected>>', optcallback)\n",
    "    schfil.current(0)\n",
    "    schbtn = Button(frame, text = 'Search', command = schcallback)\n",
    "    schlst = Listbox(frame, selectmode = SINGLE, width = 75, height = 20)\n",
    "    schlst.bind('<Double-Button-1>', selectcallback)\n",
    "    schlab.pack()\n",
    "    schinput.pack()\n",
    "    options.pack()\n",
    "    schcomm.pack(side = LEFT)\n",
    "    schsci.pack(side = RIGHT)\n",
    "    schfil.pack()\n",
    "    schbtn.pack()\n",
    "    frame.mainloop()\n",
    "else:\n",
    "    raise exceptions.notMainError()"
   ],
   "outputs": [],
   "metadata": {}
  },
  {
   "cell_type": "markdown",
   "source": [
    "这是做GUI封装的地方，非主程序就抛出异常"
   ],
   "metadata": {}
  }
 ],
 "metadata": {
  "kernelspec": {
   "name": "python3",
   "display_name": "Python 3.9.6 64-bit"
  },
  "language_info": {
   "codemirror_mode": {
    "name": "ipython",
    "version": 3
   },
   "file_extension": ".py",
   "mimetype": "text/x-python",
   "name": "python",
   "nbconvert_exporter": "python",
   "pygments_lexer": "ipython3",
   "version": "3.9.6"
  },
  "interpreter": {
   "hash": "aee8b7b246df8f9039afb4144a1f6fd8d2ca17a180786b69acc140d282b71a49"
  }
 },
 "nbformat": 4,
 "nbformat_minor": 5
}